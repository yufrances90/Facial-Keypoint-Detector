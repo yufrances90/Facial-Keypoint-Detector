{
  "nbformat": 4,
  "nbformat_minor": 0,
  "metadata": {
    "kernelspec": {
      "display_name": "Python 3",
      "language": "python",
      "name": "python3"
    },
    "language_info": {
      "codemirror_mode": {
        "name": "ipython",
        "version": 3
      },
      "file_extension": ".py",
      "mimetype": "text/x-python",
      "name": "python",
      "nbconvert_exporter": "python",
      "pygments_lexer": "ipython3",
      "version": "3.7.7"
    },
    "colab": {
      "name": "2. Define the Network Architecture.ipynb",
      "provenance": [],
      "collapsed_sections": [],
      "machine_shape": "hm"
    },
    "accelerator": "GPU"
  },
  "cells": [
    {
      "cell_type": "markdown",
      "metadata": {
        "id": "YCxXkdOP2n2U",
        "colab_type": "text"
      },
      "source": [
        "## Define the Convolutional Neural Network\n",
        "\n",
        "After you've looked at the data you're working with and, in this case, know the shapes of the images and of the keypoints, you are ready to define a convolutional neural network that can *learn* from this data.\n",
        "\n",
        "In this notebook and in `models.py`, you will:\n",
        "1. Define a CNN with images as input and keypoints as output\n",
        "2. Construct the transformed FaceKeypointsDataset, just as before\n",
        "3. Train the CNN on the training data, tracking loss\n",
        "4. See how the trained model performs on test data\n",
        "5. If necessary, modify the CNN structure and model hyperparameters, so that it performs *well* **\\***\n",
        "\n",
        "**\\*** What does *well* mean?\n",
        "\n",
        "\"Well\" means that the model's loss decreases during training **and**, when applied to test image data, the model produces keypoints that closely match the true keypoints of each face. And you'll see examples of this later in the notebook.\n",
        "\n",
        "---\n"
      ]
    },
    {
      "cell_type": "markdown",
      "metadata": {
        "id": "CRHyNKz02n2X",
        "colab_type": "text"
      },
      "source": [
        "## CNN Architecture\n",
        "\n",
        "Recall that CNN's are defined by a few types of layers:\n",
        "* Convolutional layers\n",
        "* Maxpooling layers\n",
        "* Fully-connected layers\n",
        "\n",
        "You are required to use the above layers and encouraged to add multiple convolutional layers and things like dropout layers that may prevent overfitting. You are also encouraged to look at literature on keypoint detection, such as [this paper](https://arxiv.org/pdf/1710.00977.pdf), to help you determine the structure of your network.\n",
        "\n",
        "\n",
        "### TODO: Define your model in the provided file `models.py` file\n",
        "\n",
        "This file is mostly empty but contains the expected name and some TODO's for creating your model.\n",
        "\n",
        "---"
      ]
    },
    {
      "cell_type": "markdown",
      "metadata": {
        "id": "XUyTR4l_2n2a",
        "colab_type": "text"
      },
      "source": [
        "## PyTorch Neural Nets\n",
        "\n",
        "To define a neural network in PyTorch, you define the layers of a model in the function `__init__` and define the feedforward behavior of a network that employs those initialized layers in the function `forward`, which takes in an input image tensor, `x`. The structure of this Net class is shown below and left for you to fill in.\n",
        "\n",
        "Note: During training, PyTorch will be able to perform backpropagation by keeping track of the network's feedforward behavior and using autograd to calculate the update to the weights in the network.\n",
        "\n",
        "#### Define the Layers in ` __init__`\n",
        "As a reminder, a conv/pool layer may be defined like this (in `__init__`):\n",
        "```\n",
        "# 1 input image channel (for grayscale images), 32 output channels/feature maps, 3x3 square convolution kernel\n",
        "self.conv1 = nn.Conv2d(1, 32, 3)\n",
        "\n",
        "# maxpool that uses a square window of kernel_size=2, stride=2\n",
        "self.pool = nn.MaxPool2d(2, 2)      \n",
        "```\n",
        "\n",
        "#### Refer to Layers in `forward`\n",
        "Then referred to in the `forward` function like this, in which the conv1 layer has a ReLu activation applied to it before maxpooling is applied:\n",
        "```\n",
        "x = self.pool(F.relu(self.conv1(x)))\n",
        "```\n",
        "\n",
        "Best practice is to place any layers whose weights will change during the training process in `__init__` and refer to them in the `forward` function; any layers or functions that always behave in the same way, such as a pre-defined activation function, should appear *only* in the `forward` function."
      ]
    },
    {
      "cell_type": "markdown",
      "metadata": {
        "id": "23v4HKrD2n2c",
        "colab_type": "text"
      },
      "source": [
        "#### Why models.py\n",
        "\n",
        "You are tasked with defining the network in the `models.py` file so that any models you define can be saved and loaded by name in different notebooks in this project directory. For example, by defining a CNN class called `Net` in `models.py`, you can then create that same architecture in this and other notebooks by simply importing the class and instantiating a model:\n",
        "```\n",
        "    from models import Net\n",
        "    net = Net()\n",
        "```"
      ]
    },
    {
      "cell_type": "code",
      "metadata": {
        "id": "m43DLkUF2sH6",
        "colab_type": "code",
        "colab": {
          "base_uri": "https://localhost:8080/",
          "height": 124
        },
        "outputId": "267103df-3a2c-41c9-f9b3-e2d36de9d906"
      },
      "source": [
        "from google.colab import drive\n",
        "\n",
        "drive.mount('/content/gdrive')"
      ],
      "execution_count": 1,
      "outputs": [
        {
          "output_type": "stream",
          "text": [
            "Go to this URL in a browser: https://accounts.google.com/o/oauth2/auth?client_id=947318989803-6bn6qk8qdgf4n4g3pfee6491hc0brc4i.apps.googleusercontent.com&redirect_uri=urn%3aietf%3awg%3aoauth%3a2.0%3aoob&response_type=code&scope=email%20https%3a%2f%2fwww.googleapis.com%2fauth%2fdocs.test%20https%3a%2f%2fwww.googleapis.com%2fauth%2fdrive%20https%3a%2f%2fwww.googleapis.com%2fauth%2fdrive.photos.readonly%20https%3a%2f%2fwww.googleapis.com%2fauth%2fpeopleapi.readonly\n",
            "\n",
            "Enter your authorization code:\n",
            "··········\n",
            "Mounted at /content/gdrive\n"
          ],
          "name": "stdout"
        }
      ]
    },
    {
      "cell_type": "code",
      "metadata": {
        "id": "6zHUeKmh2n2e",
        "colab_type": "code",
        "colab": {}
      },
      "source": [
        "# import the usual resources\n",
        "import matplotlib.pyplot as plt\n",
        "import numpy as np\n",
        "\n",
        "# watch for any changes in model.py, if it changes, re-load it automatically\n",
        "%load_ext autoreload\n",
        "%autoreload 2"
      ],
      "execution_count": 0,
      "outputs": []
    },
    {
      "cell_type": "code",
      "metadata": {
        "id": "34QETBwh2n2t",
        "colab_type": "code",
        "colab": {}
      },
      "source": [
        "import torch\n",
        "import torch.nn as nn\n",
        "import torch.nn.functional as F"
      ],
      "execution_count": 0,
      "outputs": []
    },
    {
      "cell_type": "code",
      "metadata": {
        "id": "5imCXUQj3Y-I",
        "colab_type": "code",
        "colab": {}
      },
      "source": [
        "class Net(nn.Module):\n",
        "\n",
        "    def __init__(self):\n",
        "        super(Net, self).__init__()\n",
        "        \n",
        "        ## Define all the layers of this CNN, the only requirements are:\n",
        "        ## 1. This network takes in a square (same width and height), grayscale image as input\n",
        "        ## 2. It ends with a linear layer that represents the keypoints\n",
        "        ## it's suggested that you make this last layer output 136 values, 2 for each of the 68 keypoint (x, y) pairs\n",
        "        \n",
        "        # As an example, you've been given a convolutional layer, which you may (but don't have to) change:\n",
        "        # 1 input image channel (grayscale), 32 output channels/feature maps, 5x5 square convolution kernel\n",
        "        self.conv1 = nn.Conv2d(1, 32, 5)\n",
        "        self.conv2 = nn.Conv2d(32, 64, 5)\n",
        "        self.conv3 = nn.Conv2d(64, 128, 5)\n",
        "        self.conv4 = nn.Conv2d(128, 512, 5)\n",
        "        \n",
        "        ## Note that among the layers to add, consider including:\n",
        "        # maxpooling layers, multiple conv layers, fully-connected layers, and other layers (such as dropout or batch normalization) to avoid overfitting\n",
        "        \n",
        "        self.pool = nn.MaxPool2d(3, stride=2)\n",
        "        \n",
        "        self.bn1 = nn.BatchNorm2d(32)\n",
        "        self.bn2 = nn.BatchNorm2d(64)\n",
        "        self.bn3 = nn.BatchNorm2d(128)\n",
        "        self.bn4 = nn.BatchNorm2d(512)\n",
        "        \n",
        "        self.fc1 = nn.Linear(41472, 9216)\n",
        "        self.fc2 = nn.Linear(9216, 4096)\n",
        "        self.fc3 = nn.Linear(4096, 4096)\n",
        "        self.fc4 = nn.Linear(4096, 1024)\n",
        "        self.fc5 = nn.Linear(1024, 512)\n",
        "        self.fc6 = nn.Linear(512, 68 * 2)\n",
        "        \n",
        "        self.dropout = nn.Dropout(p=0.5)\n",
        "        \n",
        "    def forward(self, x):\n",
        "\n",
        "        ## x is the input image and, as an example, here you may choose to include a pool/conv step:\n",
        "        x = self.pool(F.relu(self.bn1(self.conv1(x))))\n",
        "        x = self.pool(F.relu(self.bn2(self.conv2(x))))\n",
        "        x = self.pool(F.relu(self.bn3(self.conv3(x))))\n",
        "        x = self.pool(F.relu(self.bn4(self.conv4(x))))\n",
        "        \n",
        "        x = x.view(-1, 41472)\n",
        "        \n",
        "        x = self.dropout(x)\n",
        "        \n",
        "        x = F.relu(self.fc1(x))\n",
        "        \n",
        "        x = F.relu(self.fc2(x))\n",
        "        \n",
        "        x = F.relu(self.fc3(x))\n",
        "        \n",
        "        x = F.relu(self.fc4(x))\n",
        "        \n",
        "        x = F.relu(self.fc5(x))\n",
        "        \n",
        "        x = self.fc6(x)\n",
        "        \n",
        "        # a modified x, having gone through all the layers of your model, should be returned\n",
        "        return x"
      ],
      "execution_count": 0,
      "outputs": []
    },
    {
      "cell_type": "code",
      "metadata": {
        "id": "DX2QUKqP3kDY",
        "colab_type": "code",
        "colab": {
          "base_uri": "https://localhost:8080/",
          "height": 330
        },
        "outputId": "93665706-c4ad-45f8-89fc-4ba87e51cc2c"
      },
      "source": [
        "net = Net()\n",
        "print(net)"
      ],
      "execution_count": 7,
      "outputs": [
        {
          "output_type": "stream",
          "text": [
            "Net(\n",
            "  (conv1): Conv2d(1, 32, kernel_size=(5, 5), stride=(1, 1))\n",
            "  (conv2): Conv2d(32, 64, kernel_size=(5, 5), stride=(1, 1))\n",
            "  (conv3): Conv2d(64, 128, kernel_size=(5, 5), stride=(1, 1))\n",
            "  (conv4): Conv2d(128, 512, kernel_size=(5, 5), stride=(1, 1))\n",
            "  (pool): MaxPool2d(kernel_size=3, stride=2, padding=0, dilation=1, ceil_mode=False)\n",
            "  (bn1): BatchNorm2d(32, eps=1e-05, momentum=0.1, affine=True, track_running_stats=True)\n",
            "  (bn2): BatchNorm2d(64, eps=1e-05, momentum=0.1, affine=True, track_running_stats=True)\n",
            "  (bn3): BatchNorm2d(128, eps=1e-05, momentum=0.1, affine=True, track_running_stats=True)\n",
            "  (bn4): BatchNorm2d(512, eps=1e-05, momentum=0.1, affine=True, track_running_stats=True)\n",
            "  (fc1): Linear(in_features=41472, out_features=9216, bias=True)\n",
            "  (fc2): Linear(in_features=9216, out_features=4096, bias=True)\n",
            "  (fc3): Linear(in_features=4096, out_features=4096, bias=True)\n",
            "  (fc4): Linear(in_features=4096, out_features=1024, bias=True)\n",
            "  (fc5): Linear(in_features=1024, out_features=512, bias=True)\n",
            "  (fc6): Linear(in_features=512, out_features=136, bias=True)\n",
            "  (dropout): Dropout(p=0.5, inplace=False)\n",
            ")\n"
          ],
          "name": "stdout"
        }
      ]
    },
    {
      "cell_type": "markdown",
      "metadata": {
        "collapsed": true,
        "id": "iqtUJrh02n23",
        "colab_type": "text"
      },
      "source": [
        "## Transform the dataset \n",
        "\n",
        "To prepare for training, create a transformed dataset of images and keypoints.\n",
        "\n",
        "### TODO: Define a data transform\n",
        "\n",
        "In PyTorch, a convolutional neural network expects a torch image of a consistent size as input. For efficient training, and so your model's loss does not blow up during training, it is also suggested that you normalize the input images and keypoints. The necessary transforms have been defined in `data_load.py` and you **do not** need to modify these; take a look at this file (you'll see the same transforms that were defined and applied in Notebook 1).\n",
        "\n",
        "To define the data transform below, use a [composition](http://pytorch.org/tutorials/beginner/data_loading_tutorial.html#compose-transforms) of:\n",
        "1. Rescaling and/or cropping the data, such that you are left with a square image (the suggested size is 224x224px)\n",
        "2. Normalizing the images and keypoints; turning each RGB image into a grayscale image with a color range of [0, 1] and transforming the given keypoints into a range of [-1, 1]\n",
        "3. Turning these images and keypoints into Tensors\n",
        "\n",
        "These transformations have been defined in `data_load.py`, but it's up to you to call them and create a `data_transform` below. **This transform will be applied to the training data and, later, the test data**. It will change how you go about displaying these images and keypoints, but these steps are essential for efficient training.\n",
        "\n",
        "As a note, should you want to perform data augmentation (which is optional in this project), and randomly rotate or shift these images, a square image size will be useful; rotating a 224x224 image by 90 degrees will result in the same shape of output."
      ]
    },
    {
      "cell_type": "code",
      "metadata": {
        "id": "iOAHLI6n3tTK",
        "colab_type": "code",
        "colab": {}
      },
      "source": [
        "class FacialKeypointsDataset(Dataset):\n",
        "    \"\"\"Face Landmarks dataset.\"\"\"\n",
        "\n",
        "    def __init__(self, csv_file, root_dir, transform=None):\n",
        "        \"\"\"\n",
        "        Args:\n",
        "            csv_file (string): Path to the csv file with annotations.\n",
        "            root_dir (string): Directory with all the images.\n",
        "            transform (callable, optional): Optional transform to be applied\n",
        "                on a sample.\n",
        "        \"\"\"\n",
        "        self.key_pts_frame = pd.read_csv(csv_file)\n",
        "        self.root_dir = root_dir\n",
        "        self.transform = transform\n",
        "\n",
        "    def __len__(self):\n",
        "        return len(self.key_pts_frame)\n",
        "\n",
        "    def __getitem__(self, idx):\n",
        "        image_name = os.path.join(self.root_dir,\n",
        "                                self.key_pts_frame.iloc[idx, 0])\n",
        "        \n",
        "        image = mpimg.imread(image_name)\n",
        "        \n",
        "        # if image has an alpha color channel, get rid of it\n",
        "        if(image.shape[2] == 4):\n",
        "            image = image[:,:,0:3]\n",
        "        \n",
        "        key_pts = np.matrix(self.key_pts_frame.iloc[idx, 1:])\n",
        "        key_pts = key_pts.astype('float').reshape(-1, 2)\n",
        "        sample = {'image': image, 'keypoints': key_pts}\n",
        "\n",
        "        if self.transform:\n",
        "            sample = self.transform(sample)\n",
        "\n",
        "        return sample"
      ],
      "execution_count": 0,
      "outputs": []
    },
    {
      "cell_type": "code",
      "metadata": {
        "id": "fQk2HvWr34gI",
        "colab_type": "code",
        "colab": {}
      },
      "source": [
        "class Normalize(object):\n",
        "    \"\"\"Convert a color image to grayscale and normalize the color range to [0,1].\"\"\"        \n",
        "\n",
        "    def __call__(self, sample):\n",
        "        image, key_pts = sample['image'], sample['keypoints']\n",
        "        \n",
        "        image_copy = np.copy(image)\n",
        "        key_pts_copy = np.copy(key_pts)\n",
        "\n",
        "        # convert image to grayscale\n",
        "        image_copy = cv2.cvtColor(image, cv2.COLOR_RGB2GRAY)\n",
        "        \n",
        "        # scale color range from [0, 255] to [0, 1]\n",
        "        image_copy=  image_copy/255.0\n",
        "            \n",
        "        \n",
        "        # scale keypoints to be centered around 0 with a range of [-1, 1]\n",
        "        # mean = 100, sqrt = 50, so, pts should be (pts - 100)/50\n",
        "        key_pts_copy = (key_pts_copy - 100)/50.0\n",
        "\n",
        "\n",
        "        return {'image': image_copy, 'keypoints': key_pts_copy}"
      ],
      "execution_count": 0,
      "outputs": []
    },
    {
      "cell_type": "code",
      "metadata": {
        "id": "b4N77u0E39NH",
        "colab_type": "code",
        "colab": {}
      },
      "source": [
        "class Rescale(object):\n",
        "    \"\"\"Rescale the image in a sample to a given size.\n",
        "\n",
        "    Args:\n",
        "        output_size (tuple or int): Desired output size. If tuple, output is\n",
        "            matched to output_size. If int, smaller of image edges is matched\n",
        "            to output_size keeping aspect ratio the same.\n",
        "    \"\"\"\n",
        "\n",
        "    def __init__(self, output_size):\n",
        "        assert isinstance(output_size, (int, tuple))\n",
        "        self.output_size = output_size\n",
        "\n",
        "    def __call__(self, sample):\n",
        "        image, key_pts = sample['image'], sample['keypoints']\n",
        "\n",
        "        h, w = image.shape[:2]\n",
        "        if isinstance(self.output_size, int):\n",
        "            if h > w:\n",
        "                new_h, new_w = self.output_size * h / w, self.output_size\n",
        "            else:\n",
        "                new_h, new_w = self.output_size, self.output_size * w / h\n",
        "        else:\n",
        "            new_h, new_w = self.output_size\n",
        "\n",
        "        new_h, new_w = int(new_h), int(new_w)\n",
        "\n",
        "        img = cv2.resize(image, (new_w, new_h))\n",
        "        \n",
        "        # scale the pts, too\n",
        "        key_pts = np.asarray(key_pts) * np.array([new_w / w, new_h / h])\n",
        "\n",
        "        return {'image': img, 'keypoints': key_pts}"
      ],
      "execution_count": 0,
      "outputs": []
    },
    {
      "cell_type": "code",
      "metadata": {
        "id": "TaRwHFbk4A1U",
        "colab_type": "code",
        "colab": {}
      },
      "source": [
        "class RandomCrop(object):\n",
        "    \"\"\"Crop randomly the image in a sample.\n",
        "\n",
        "    Args:\n",
        "        output_size (tuple or int): Desired output size. If int, square crop\n",
        "            is made.\n",
        "    \"\"\"\n",
        "\n",
        "    def __init__(self, output_size):\n",
        "        assert isinstance(output_size, (int, tuple))\n",
        "        if isinstance(output_size, int):\n",
        "            self.output_size = (output_size, output_size)\n",
        "        else:\n",
        "            assert len(output_size) == 2\n",
        "            self.output_size = output_size\n",
        "\n",
        "    def __call__(self, sample):\n",
        "        image, key_pts = sample['image'], sample['keypoints']\n",
        "\n",
        "        h, w = image.shape[:2]\n",
        "        new_h, new_w = self.output_size\n",
        "\n",
        "        top = np.random.randint(0, h - new_h)\n",
        "        left = np.random.randint(0, w - new_w)\n",
        "\n",
        "        image = image[top: top + new_h,\n",
        "                      left: left + new_w]\n",
        "\n",
        "        key_pts = key_pts - [left, top]\n",
        "\n",
        "        return {'image': image, 'keypoints': key_pts}"
      ],
      "execution_count": 0,
      "outputs": []
    },
    {
      "cell_type": "code",
      "metadata": {
        "id": "bnornGdx4ElR",
        "colab_type": "code",
        "colab": {}
      },
      "source": [
        "class ToTensor(object):\n",
        "    \"\"\"Convert ndarrays in sample to Tensors.\"\"\"\n",
        "\n",
        "    def __call__(self, sample):\n",
        "        image, key_pts = sample['image'], sample['keypoints']\n",
        "         \n",
        "        # if image has no grayscale color channel, add one\n",
        "        if(len(image.shape) == 2):\n",
        "            # add that third color dim\n",
        "            image = image.reshape(image.shape[0], image.shape[1], 1)\n",
        "            \n",
        "        # swap color axis because\n",
        "        # numpy image: H x W x C\n",
        "        # torch image: C X H X W\n",
        "        image = image.transpose((2, 0, 1))\n",
        "        \n",
        "        return {'image': torch.from_numpy(image),\n",
        "                'keypoints': torch.from_numpy(key_pts)}"
      ],
      "execution_count": 0,
      "outputs": []
    },
    {
      "cell_type": "code",
      "metadata": {
        "id": "wOtwpBEv2n24",
        "colab_type": "code",
        "colab": {}
      },
      "source": [
        "from torch.utils.data import Dataset, DataLoader\n",
        "from torchvision import transforms, utils\n",
        "\n",
        "data_transform = transforms.Compose([\n",
        "    Rescale(250), \n",
        "    RandomCrop(224), \n",
        "    Normalize(), \n",
        "    ToTensor()\n",
        "])\n",
        "\n",
        "# testing that you've defined a transform\n",
        "assert(data_transform is not None), 'Define a data_transform'"
      ],
      "execution_count": 0,
      "outputs": []
    },
    {
      "cell_type": "code",
      "metadata": {
        "id": "g7JCZfJ72n2_",
        "colab_type": "code",
        "colab": {
          "base_uri": "https://localhost:8080/",
          "height": 104
        },
        "outputId": "17ac58f3-2619-4d5b-e79a-abf18f5db122"
      },
      "source": [
        "import pandas as pd\n",
        "import os\n",
        "import matplotlib.image as mpimg\n",
        "import cv2\n",
        "\n",
        "# create the transformed dataset\n",
        "transformed_dataset = FacialKeypointsDataset(csv_file='gdrive/My Drive/Lab/data/training_frames_keypoints.csv',\n",
        "                                             root_dir='gdrive/My Drive/Lab/data/training/',\n",
        "                                             transform=data_transform)\n",
        "\n",
        "\n",
        "print('Number of images: ', len(transformed_dataset))\n",
        "\n",
        "# iterate through the transformed dataset and print some stats about the first few samples\n",
        "for i in range(4):\n",
        "    sample = transformed_dataset[i]\n",
        "    print(i, sample['image'].size(), sample['keypoints'].size())"
      ],
      "execution_count": 19,
      "outputs": [
        {
          "output_type": "stream",
          "text": [
            "Number of images:  3462\n",
            "0 torch.Size([1, 224, 224]) torch.Size([68, 2])\n",
            "1 torch.Size([1, 224, 224]) torch.Size([68, 2])\n",
            "2 torch.Size([1, 224, 224]) torch.Size([68, 2])\n",
            "3 torch.Size([1, 224, 224]) torch.Size([68, 2])\n"
          ],
          "name": "stdout"
        }
      ]
    },
    {
      "cell_type": "markdown",
      "metadata": {
        "id": "ImbtsztR2n3H",
        "colab_type": "text"
      },
      "source": [
        "## Batching and loading data\n",
        "\n",
        "Next, having defined the transformed dataset, we can use PyTorch's DataLoader class to load the training data in batches of whatever size as well as to shuffle the data for training the model. You can read more about the parameters of the DataLoader, in [this documentation](http://pytorch.org/docs/master/data.html).\n",
        "\n",
        "#### Batch size\n",
        "Decide on a good batch size for training your model. Try both small and large batch sizes and note how the loss decreases as the model trains.\n",
        "\n",
        "**Note for Windows users**: Please change the `num_workers` to 0 or you may face some issues with your DataLoader failing."
      ]
    },
    {
      "cell_type": "code",
      "metadata": {
        "id": "J_GQtGIS2n3K",
        "colab_type": "code",
        "colab": {}
      },
      "source": [
        "# load training data in batches\n",
        "batch_size = 10\n",
        "\n",
        "train_loader = DataLoader(transformed_dataset, \n",
        "                          batch_size=batch_size,\n",
        "                          shuffle=True, \n",
        "                          num_workers=4)\n"
      ],
      "execution_count": 0,
      "outputs": []
    },
    {
      "cell_type": "markdown",
      "metadata": {
        "id": "p3tzpkmO2n3R",
        "colab_type": "text"
      },
      "source": [
        "## Before training\n",
        "\n",
        "Take a look at how this model performs before it trains. You should see that the keypoints it predicts start off in one spot and don't match the keypoints on a face at all! It's interesting to visualize this behavior so that you can compare it to the model after training and see how the model has improved.\n",
        "\n",
        "#### Load in the test dataset\n",
        "\n",
        "The test dataset is one that this model has *not* seen before, meaning it has not trained with these images. We'll load in this test data and before and after training, see how your model performs on this set!\n",
        "\n",
        "To visualize this test data, we have to go through some un-transformation steps to turn our images into python images from tensors and to turn our keypoints back into a recognizable range. "
      ]
    },
    {
      "cell_type": "code",
      "metadata": {
        "id": "qKrkjExW2n3S",
        "colab_type": "code",
        "colab": {}
      },
      "source": [
        "# load in the test data, using the dataset class\n",
        "# AND apply the data_transform you defined above\n",
        "\n",
        "# create the test dataset\n",
        "test_dataset = FacialKeypointsDataset(csv_file='gdrive/My Drive/Lab/data/test_frames_keypoints.csv',\n",
        "                                             root_dir='gdrive/My Drive/Lab/data/test/',\n",
        "                                             transform=data_transform)\n",
        "\n"
      ],
      "execution_count": 0,
      "outputs": []
    },
    {
      "cell_type": "code",
      "metadata": {
        "id": "kWNdw4OD2n3Y",
        "colab_type": "code",
        "colab": {}
      },
      "source": [
        "# load test data in batches\n",
        "batch_size = 10\n",
        "\n",
        "test_loader = DataLoader(test_dataset, \n",
        "                          batch_size=batch_size,\n",
        "                          shuffle=True, \n",
        "                          num_workers=4)"
      ],
      "execution_count": 0,
      "outputs": []
    },
    {
      "cell_type": "markdown",
      "metadata": {
        "id": "TpXOuWLK2n3f",
        "colab_type": "text"
      },
      "source": [
        "## Apply the model on a test sample\n",
        "\n",
        "To test the model on a test sample of data, you have to follow these steps:\n",
        "1. Extract the image and ground truth keypoints from a sample\n",
        "2. Make sure the image is a FloatTensor, which the model expects.\n",
        "3. Forward pass the image through the net to get the predicted, output keypoints.\n",
        "\n",
        "This function test how the network performs on the first batch of test data. It returns the images, the transformed images, the predicted keypoints (produced by the model), and the ground truth keypoints."
      ]
    },
    {
      "cell_type": "code",
      "metadata": {
        "id": "Kz4niURD2n3g",
        "colab_type": "code",
        "colab": {}
      },
      "source": [
        "# test the model on a batch of test images\n",
        "\n",
        "def net_sample_output():\n",
        "    \n",
        "    # iterate through the test dataset\n",
        "    for i, sample in enumerate(test_loader):\n",
        "        \n",
        "        # get sample data: images and ground truth keypoints\n",
        "        images = sample['image']\n",
        "        key_pts = sample['keypoints']\n",
        "\n",
        "        # convert images to FloatTensors\n",
        "        images = images.type(torch.FloatTensor)\n",
        "\n",
        "        # forward pass to get net output\n",
        "        output_pts = net(images)\n",
        "        \n",
        "        # reshape to batch_size x 68 x 2 pts\n",
        "        output_pts = output_pts.view(output_pts.size()[0], 68, -1)\n",
        "        \n",
        "        # break after first image is tested\n",
        "        if i == 0:\n",
        "            return images, output_pts, key_pts\n",
        "            "
      ],
      "execution_count": 0,
      "outputs": []
    },
    {
      "cell_type": "markdown",
      "metadata": {
        "id": "dnFTW-Nu2n3m",
        "colab_type": "text"
      },
      "source": [
        "#### Debugging tips\n",
        "\n",
        "If you get a size or dimension error here, make sure that your network outputs the expected number of keypoints! Or if you get a Tensor type error, look into changing the above code that casts the data into float types: `images = images.type(torch.FloatTensor)`."
      ]
    },
    {
      "cell_type": "code",
      "metadata": {
        "id": "LoZpj7iQ2n3n",
        "colab_type": "code",
        "colab": {
          "base_uri": "https://localhost:8080/",
          "height": 69
        },
        "outputId": "5efddeef-b75d-4d31-af1f-757f0d663dff"
      },
      "source": [
        "# call the above function\n",
        "# returns: test images, test predicted keypoints, test ground truth keypoints\n",
        "test_images, test_outputs, gt_pts = net_sample_output()\n",
        "\n",
        "# print out the dimensions of the data to see if they make sense\n",
        "print(test_images.data.size())\n",
        "print(test_outputs.data.size())\n",
        "print(gt_pts.size())"
      ],
      "execution_count": 24,
      "outputs": [
        {
          "output_type": "stream",
          "text": [
            "torch.Size([10, 1, 224, 224])\n",
            "torch.Size([10, 68, 2])\n",
            "torch.Size([10, 68, 2])\n"
          ],
          "name": "stdout"
        }
      ]
    },
    {
      "cell_type": "markdown",
      "metadata": {
        "id": "vgdbMVlI2n3u",
        "colab_type": "text"
      },
      "source": [
        "## Visualize the predicted keypoints\n",
        "\n",
        "Once we've had the model produce some predicted output keypoints, we can visualize these points in a way that's similar to how we've displayed this data before, only this time, we have to \"un-transform\" the image/keypoint data to display it.\n",
        "\n",
        "Note that I've defined a *new* function, `show_all_keypoints` that displays a grayscale image, its predicted keypoints and its ground truth keypoints (if provided)."
      ]
    },
    {
      "cell_type": "code",
      "metadata": {
        "id": "M8G6xKlq2n3v",
        "colab_type": "code",
        "colab": {}
      },
      "source": [
        "def show_all_keypoints(image, predicted_key_pts, gt_pts=None):\n",
        "    \"\"\"Show image with predicted keypoints\"\"\"\n",
        "    # image is grayscale\n",
        "    plt.imshow(image, cmap='gray')\n",
        "    plt.scatter(predicted_key_pts[:, 0], predicted_key_pts[:, 1], s=20, marker='.', c='m')\n",
        "    # plot ground truth points as green pts\n",
        "    if gt_pts is not None:\n",
        "        plt.scatter(gt_pts[:, 0], gt_pts[:, 1], s=20, marker='.', c='g')\n"
      ],
      "execution_count": 0,
      "outputs": []
    },
    {
      "cell_type": "markdown",
      "metadata": {
        "id": "bp2m1wtL2n31",
        "colab_type": "text"
      },
      "source": [
        "#### Un-transformation\n",
        "\n",
        "Next, you'll see a helper function. `visualize_output` that takes in a batch of images, predicted keypoints, and ground truth keypoints and displays a set of those images and their true/predicted keypoints.\n",
        "\n",
        "This function's main role is to take batches of image and keypoint data (the input and output of your CNN), and transform them into numpy images and un-normalized keypoints (x, y) for normal display. The un-transformation process turns keypoints and images into numpy arrays from Tensors *and* it undoes the keypoint normalization done in the Normalize() transform; it's assumed that you applied these transformations when you loaded your test data."
      ]
    },
    {
      "cell_type": "code",
      "metadata": {
        "id": "A8xZIAy_2n32",
        "colab_type": "code",
        "colab": {
          "base_uri": "https://localhost:8080/",
          "height": 1000
        },
        "outputId": "b6ef4db6-76f9-4807-cbc2-d008b85ae76d"
      },
      "source": [
        "# visualize the output\n",
        "# by default this shows a batch of 10 images\n",
        "def visualize_output(test_images, test_outputs, gt_pts=None, batch_size=10):\n",
        "\n",
        "    for i in range(batch_size):\n",
        "        plt.figure(figsize=(20,10))\n",
        "        ax = plt.subplot(1, batch_size, i+1)\n",
        "\n",
        "        # un-transform the image data\n",
        "        image = test_images[i].data   # get the image from it's wrapper\n",
        "        image = image.numpy()   # convert to numpy array from a Tensor\n",
        "        image = np.transpose(image, (1, 2, 0))   # transpose to go from torch to numpy image\n",
        "\n",
        "        # un-transform the predicted key_pts data\n",
        "        predicted_key_pts = test_outputs[i].data\n",
        "        predicted_key_pts = predicted_key_pts.numpy()\n",
        "        # undo normalization of keypoints  \n",
        "        predicted_key_pts = predicted_key_pts*50.0+100\n",
        "        \n",
        "        # plot ground truth points for comparison, if they exist\n",
        "        ground_truth_pts = None\n",
        "        if gt_pts is not None:\n",
        "            ground_truth_pts = gt_pts[i]         \n",
        "            ground_truth_pts = ground_truth_pts*50.0+100\n",
        "        \n",
        "        # call show_all_keypoints\n",
        "        show_all_keypoints(np.squeeze(image), predicted_key_pts, ground_truth_pts)\n",
        "            \n",
        "        plt.axis('off')\n",
        "\n",
        "    plt.show()\n",
        "    \n",
        "# call it\n",
        "visualize_output(test_images, test_outputs, gt_pts)"
      ],
      "execution_count": 26,
      "outputs": [
        {
          "output_type": "display_data",
          "data": {
            "image/png": "[encoded data removed]",
            "text/plain": [
              "<Figure size 1440x720 with 1 Axes>"
            ]
          },
          "metadata": {
            "tags": [],
            "needs_background": "light"
          }
        },
        {
          "output_type": "display_data",
          "data": {
            "image/png": "[encoded data removed]",
            "text/plain": [
              "<Figure size 1440x720 with 1 Axes>"
            ]
          },
          "metadata": {
            "tags": [],
            "needs_background": "light"
          }
        },
        {
          "output_type": "display_data",
          "data": {
            "image/png": "[encoded data removed]",
            "text/plain": [
              "<Figure size 1440x720 with 1 Axes>"
            ]
          },
          "metadata": {
            "tags": [],
            "needs_background": "light"
          }
        },
        {
          "output_type": "display_data",
          "data": {
            "image/png": "[encoded data removed]",
            "text/plain": [
              "<Figure size 1440x720 with 1 Axes>"
            ]
          },
          "metadata": {
            "tags": [],
            "needs_background": "light"
          }
        },
        {
          "output_type": "display_data",
          "data": {
            "image/png": "[encoded data removed]",
            "text/plain": [
              "<Figure size 1440x720 with 1 Axes>"
            ]
          },
          "metadata": {
            "tags": [],
            "needs_background": "light"
          }
        },
        {
          "output_type": "display_data",
          "data": {
            "image/png": "[encoded data removed]",
            "text/plain": [
              "<Figure size 1440x720 with 1 Axes>"
            ]
          },
          "metadata": {
            "tags": [],
            "needs_background": "light"
          }
        },
        {
          "output_type": "display_data",
          "data": {
            "image/png": "[encoded data removed]",
            "text/plain": [
              "<Figure size 1440x720 with 1 Axes>"
            ]
          },
          "metadata": {
            "tags": [],
            "needs_background": "light"
          }
        },
        {
          "output_type": "display_data",
          "data": {
            "image/png": "[encoded data removed]",
            "text/plain": [
              "<Figure size 1440x720 with 1 Axes>"
            ]
          },
          "metadata": {
            "tags": [],
            "needs_background": "light"
          }
        },
        {
          "output_type": "display_data",
          "data": {
            "image/png": "[encoded data removed]",
            "text/plain": [
              "<Figure size 1440x720 with 1 Axes>"
            ]
          },
          "metadata": {
            "tags": [],
            "needs_background": "light"
          }
        },
        {
          "output_type": "display_data",
          "data": {
            "image/png": "[encoded data removed]",
            "text/plain": [
              "<Figure size 1440x720 with 1 Axes>"
            ]
          },
          "metadata": {
            "tags": [],
            "needs_background": "light"
          }
        }
      ]
    },
    {
      "cell_type": "markdown",
      "metadata": {
        "id": "IqNM2J7d2n39",
        "colab_type": "text"
      },
      "source": [
        "## Training\n",
        "\n",
        "#### Loss function\n",
        "Training a network to predict keypoints is different than training a network to predict a class; instead of outputting a distribution of classes and using cross entropy loss, you may want to choose a loss function that is suited for regression, which directly compares a predicted value and target value. Read about the various kinds of loss functions (like MSE or L1/SmoothL1 loss) in [this documentation](http://pytorch.org/docs/master/_modules/torch/nn/modules/loss.html).\n",
        "\n",
        "### TODO: Define the loss and optimization\n",
        "\n",
        "Next, you'll define how the model will train by deciding on the loss function and optimizer.\n",
        "\n",
        "---"
      ]
    },
    {
      "cell_type": "code",
      "metadata": {
        "id": "cZ_Z6s1J2n3-",
        "colab_type": "code",
        "colab": {}
      },
      "source": [
        "import torch.optim as optim\n",
        "\n",
        "criterion = nn.MSELoss()\n",
        "\n",
        "optimizer = torch.optim.SGD(net.parameters(), lr=0.01)"
      ],
      "execution_count": 0,
      "outputs": []
    },
    {
      "cell_type": "markdown",
      "metadata": {
        "id": "mbzPaD-k2n4E",
        "colab_type": "text"
      },
      "source": [
        "## Training and Initial Observation\n",
        "\n",
        "Now, you'll train on your batched training data from `train_loader` for a number of epochs. \n",
        "\n",
        "To quickly observe how your model is training and decide on whether or not you should modify it's structure or hyperparameters, you're encouraged to start off with just one or two epochs at first. As you train, note how your the model's loss behaves over time: does it decrease quickly at first and then slow down? Does it take a while to decrease in the first place? What happens if you change the batch size of your training data or modify your loss function? etc. \n",
        "\n",
        "Use these initial observations to make changes to your model and decide on the best architecture before you train for many epochs and create a final model."
      ]
    },
    {
      "cell_type": "code",
      "metadata": {
        "id": "Zb4D2cyI2n4G",
        "colab_type": "code",
        "colab": {}
      },
      "source": [
        "def train_net(n_epochs, print_every=10, save_path):\n",
        "\n",
        "    # prepare the net for training\n",
        "    net.train()\n",
        "\n",
        "    running_loss_min = np.Inf \n",
        "\n",
        "    for epoch in range(n_epochs):  # loop over the dataset multiple times\n",
        "        \n",
        "        running_loss = 0.0\n",
        "\n",
        "        # train on batches of data, assumes you already have train_loader\n",
        "        for batch_i, data in enumerate(train_loader):\n",
        "            # get the input images and their corresponding labels\n",
        "            images = data['image']\n",
        "            key_pts = data['keypoints']\n",
        "\n",
        "            # flatten pts\n",
        "            key_pts = key_pts.view(key_pts.size(0), -1)\n",
        "\n",
        "            # convert variables to floats for regression loss\n",
        "            key_pts = key_pts.type(torch.FloatTensor)\n",
        "            images = images.type(torch.FloatTensor)\n",
        "\n",
        "            # forward pass to get outputs\n",
        "            output_pts = net(images)\n",
        "\n",
        "            # calculate the loss between predicted and target keypoints\n",
        "            loss = criterion(output_pts, key_pts)\n",
        "\n",
        "            # zero the parameter (weight) gradients\n",
        "            optimizer.zero_grad()\n",
        "            \n",
        "            # backward pass to calculate the weight gradients\n",
        "            loss.backward()\n",
        "\n",
        "            # update the weights\n",
        "            optimizer.step()\n",
        "\n",
        "            # print loss statistics\n",
        "            # to convert loss into a scalar and add it to the running_loss, use .item()\n",
        "            running_loss += loss.item()\n",
        "            if batch_i % print_every == 9:    # print every n batches\n",
        "                print('Epoch: {}, Batch: {}, Avg. Loss: {}'.format(epoch + 1, batch_i+1, running_loss/1000))\n",
        "                running_loss = 0.0\n",
        "\n",
        "            if running_loss < running_loss_min:\n",
        "              running_loss_min = running_loss\n",
        "              torch.save(net.state_dict(), save_path)\n",
        "\n",
        "    print('Finished Training')\n"
      ],
      "execution_count": 0,
      "outputs": []
    },
    {
      "cell_type": "code",
      "metadata": {
        "id": "tYahB7gq2n4O",
        "colab_type": "code",
        "colab": {
          "base_uri": "https://localhost:8080/",
          "height": 451
        },
        "outputId": "383406c9-ab4e-4688-c260-6cb28afd16d2"
      },
      "source": [
        "# train your network\n",
        "n_epochs = 50 \n",
        "\n",
        "train_net(n_epochs, save_path='gdrive/My Drive/Lab/model.pt')"
      ],
      "execution_count": 0,
      "outputs": [
        {
          "output_type": "stream",
          "text": [
            "Epoch: 1, Batch: 10, Avg. Loss: 0.005586733847856522\n",
            "Epoch: 1, Batch: 20, Avg. Loss: 0.005861507654190063\n",
            "Epoch: 1, Batch: 30, Avg. Loss: 0.00490377414226532\n",
            "Epoch: 1, Batch: 40, Avg. Loss: 0.007561138749122619\n",
            "Epoch: 1, Batch: 50, Avg. Loss: 0.006202881187200546\n",
            "Epoch: 1, Batch: 60, Avg. Loss: 0.005772289246320724\n",
            "Epoch: 1, Batch: 70, Avg. Loss: 0.0057928281426429746\n",
            "Epoch: 1, Batch: 80, Avg. Loss: 0.006535743653774261\n",
            "Epoch: 1, Batch: 90, Avg. Loss: 0.005246177732944488\n",
            "Epoch: 1, Batch: 100, Avg. Loss: 0.005183977782726288\n",
            "Epoch: 1, Batch: 110, Avg. Loss: 0.004961769700050354\n",
            "Epoch: 1, Batch: 120, Avg. Loss: 0.00446789601445198\n",
            "Epoch: 1, Batch: 130, Avg. Loss: 0.003441456139087677\n",
            "Epoch: 1, Batch: 140, Avg. Loss: 0.0029304690212011335\n",
            "Epoch: 1, Batch: 150, Avg. Loss: 0.0026014763861894608\n",
            "Epoch: 1, Batch: 160, Avg. Loss: 0.002374091386795044\n",
            "Epoch: 1, Batch: 170, Avg. Loss: 0.0027621185779571535\n",
            "Epoch: 1, Batch: 180, Avg. Loss: 0.0017663425505161285\n",
            "Epoch: 1, Batch: 190, Avg. Loss: 0.0016922245249152183\n",
            "Epoch: 1, Batch: 200, Avg. Loss: 0.0020463439524173736\n",
            "Epoch: 1, Batch: 210, Avg. Loss: 0.0017547049224376679\n",
            "Epoch: 1, Batch: 220, Avg. Loss: 0.0018326277434825898\n",
            "Epoch: 1, Batch: 230, Avg. Loss: 0.0018816396072506905\n",
            "Epoch: 1, Batch: 240, Avg. Loss: 0.0017385956719517708\n",
            "Epoch: 1, Batch: 250, Avg. Loss: 0.0018231124877929688\n"
          ],
          "name": "stdout"
        }
      ]
    },
    {
      "cell_type": "markdown",
      "metadata": {
        "id": "gJCnKQaH2n4S",
        "colab_type": "text"
      },
      "source": [
        "## Test data\n",
        "\n",
        "See how your model performs on previously unseen, test data. We've already loaded and transformed this data, similar to the training data. Next, run your trained model on these images to see what kind of keypoints are produced. You should be able to see if your model is fitting each new face it sees, if the points are distributed randomly, or if the points have actually overfitted the training data and do not generalize."
      ]
    },
    {
      "cell_type": "code",
      "metadata": {
        "id": "YldQWQrq2n4T",
        "colab_type": "code",
        "colab": {}
      },
      "source": [
        "# get a sample of test data again\n",
        "test_images, test_outputs, gt_pts = net_sample_output()\n",
        "\n",
        "print(test_images.data.size())\n",
        "print(test_outputs.data.size())\n",
        "print(gt_pts.size())"
      ],
      "execution_count": 0,
      "outputs": []
    },
    {
      "cell_type": "code",
      "metadata": {
        "id": "HRj_wCie2n4Y",
        "colab_type": "code",
        "colab": {}
      },
      "source": [
        "## TODO: visualize your test output\n",
        "# you can use the same function as before, by un-commenting the line below:\n",
        "\n",
        "visualize_output(test_images, test_outputs, gt_pts)\n"
      ],
      "execution_count": 0,
      "outputs": []
    },
    {
      "cell_type": "markdown",
      "metadata": {
        "id": "41ZcTiXH2n4g",
        "colab_type": "text"
      },
      "source": [
        "Once you've found a good model (or two), save your model so you can load it and use it later!"
      ]
    },
    {
      "cell_type": "code",
      "metadata": {
        "id": "26XUwoEN2n4h",
        "colab_type": "code",
        "colab": {}
      },
      "source": [
        "## TODO: change the name to something uniqe for each new model\n",
        "model_dir = 'saved_models/'\n",
        "model_name = 'keypoints_model_1.pt'\n",
        "\n",
        "# after training, save your model parameters in the dir 'saved_models'\n",
        "torch.save(net.state_dict(), model_dir+model_name)"
      ],
      "execution_count": 0,
      "outputs": []
    },
    {
      "cell_type": "markdown",
      "metadata": {
        "id": "YfK1lhnh2n4n",
        "colab_type": "text"
      },
      "source": [
        "After you've trained a well-performing model, answer the following questions so that we have some insight into your training and architecture selection process. Answering all questions is required to pass this project."
      ]
    },
    {
      "cell_type": "markdown",
      "metadata": {
        "id": "qVmFVTyQ2n4n",
        "colab_type": "text"
      },
      "source": [
        "### Question 1: What optimization and loss functions did you choose and why?\n"
      ]
    },
    {
      "cell_type": "markdown",
      "metadata": {
        "id": "QH3tSmO42n4q",
        "colab_type": "text"
      },
      "source": [
        "**Answer**: write your answer here (double click to edit this cell)"
      ]
    },
    {
      "cell_type": "markdown",
      "metadata": {
        "id": "J_3_XJbU2n4r",
        "colab_type": "text"
      },
      "source": [
        "### Question 2: What kind of network architecture did you start with and how did it change as you tried different architectures? Did you decide to add more convolutional layers or any layers to avoid overfitting the data?"
      ]
    },
    {
      "cell_type": "markdown",
      "metadata": {
        "id": "RYWm6Jw72n4s",
        "colab_type": "text"
      },
      "source": [
        "**Answer**: write your answer here"
      ]
    },
    {
      "cell_type": "markdown",
      "metadata": {
        "id": "fsfZB0_b2n4t",
        "colab_type": "text"
      },
      "source": [
        "### Question 3: How did you decide on the number of epochs and batch_size to train your model?"
      ]
    },
    {
      "cell_type": "markdown",
      "metadata": {
        "id": "J96OUyJd2n4w",
        "colab_type": "text"
      },
      "source": [
        "**Answer**: write your answer here"
      ]
    },
    {
      "cell_type": "markdown",
      "metadata": {
        "id": "GEeG-_Tj2n4x",
        "colab_type": "text"
      },
      "source": [
        "## Feature Visualization\n",
        "\n",
        "Sometimes, neural networks are thought of as a black box, given some input, they learn to produce some output. CNN's are actually learning to recognize a variety of spatial patterns and you can visualize what each convolutional layer has been trained to recognize by looking at the weights that make up each convolutional kernel and applying those one at a time to a sample image. This technique is called feature visualization and it's useful for understanding the inner workings of a CNN."
      ]
    },
    {
      "cell_type": "markdown",
      "metadata": {
        "id": "tbk7ZbIN2n4y",
        "colab_type": "text"
      },
      "source": [
        "In the cell below, you can see how to extract a single filter (by index) from your first convolutional layer. The filter should appear as a grayscale grid."
      ]
    },
    {
      "cell_type": "code",
      "metadata": {
        "id": "T9_RpPX02n4z",
        "colab_type": "code",
        "colab": {}
      },
      "source": [
        "# Get the weights in the first conv layer, \"conv1\"\n",
        "# if necessary, change this to reflect the name of your first conv layer\n",
        "weights1 = net.conv1.weight.data\n",
        "\n",
        "w = weights1.numpy()\n",
        "\n",
        "filter_index = 0\n",
        "\n",
        "print(w[filter_index][0])\n",
        "print(w[filter_index][0].shape)\n",
        "\n",
        "# display the filter weights\n",
        "plt.imshow(w[filter_index][0], cmap='gray')\n"
      ],
      "execution_count": 0,
      "outputs": []
    },
    {
      "cell_type": "markdown",
      "metadata": {
        "id": "Tv9U6jYU2n4_",
        "colab_type": "text"
      },
      "source": [
        "## Feature maps\n",
        "\n",
        "Each CNN has at least one convolutional layer that is composed of stacked filters (also known as convolutional kernels). As a CNN trains, it learns what weights to include in it's convolutional kernels and when these kernels are applied to some input image, they produce a set of **feature maps**. So, feature maps are just sets of filtered images; they are the images produced by applying a convolutional kernel to an input image. These maps show us the features that the different layers of the neural network learn to extract. For example, you might imagine a convolutional kernel that detects the vertical edges of a face or another one that detects the corners of eyes. You can see what kind of features each of these kernels detects by applying them to an image. One such example is shown below; from the way it brings out the lines in an the image, you might characterize this as an edge detection filter.\n",
        "\n",
        "<img src='images/feature_map_ex.png' width=50% height=50%/>\n",
        "\n",
        "\n",
        "Next, choose a test image and filter it with one of the convolutional kernels in your trained CNN; look at the filtered output to get an idea what that particular kernel detects.\n",
        "\n",
        "### TODO: Filter an image to see the effect of a convolutional kernel\n",
        "---"
      ]
    },
    {
      "cell_type": "code",
      "metadata": {
        "id": "fEFIM_Xv2n5A",
        "colab_type": "code",
        "colab": {}
      },
      "source": [
        "##TODO: load in and display any image from the transformed test dataset\n",
        "\n",
        "## TODO: Using cv's filter2D function,\n",
        "## apply a specific set of filter weights (like the one displayed above) to the test image\n"
      ],
      "execution_count": 0,
      "outputs": []
    },
    {
      "cell_type": "markdown",
      "metadata": {
        "id": "7duj4pcK2n5K",
        "colab_type": "text"
      },
      "source": [
        "### Question 4: Choose one filter from your trained CNN and apply it to a test image; what purpose do you think it plays? What kind of feature do you think it detects?\n"
      ]
    },
    {
      "cell_type": "markdown",
      "metadata": {
        "id": "if3sdhpM2n5K",
        "colab_type": "text"
      },
      "source": [
        "**Answer**: (does it detect vertical lines or does it blur out noise, etc.) write your answer here"
      ]
    },
    {
      "cell_type": "markdown",
      "metadata": {
        "id": "HZ_JRFWo2n5L",
        "colab_type": "text"
      },
      "source": [
        "---\n",
        "## Moving on!\n",
        "\n",
        "Now that you've defined and trained your model (and saved the best model), you are ready to move on to the last notebook, which combines a face detector with your saved model to create a facial keypoint detection system that can predict the keypoints on *any* face in an image!"
      ]
    }
  ]
}